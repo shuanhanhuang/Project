{
 "cells": [
  {
   "cell_type": "code",
   "execution_count": 12,
   "metadata": {},
   "outputs": [
    {
     "name": "stdout",
     "output_type": "stream",
     "text": [
      "蘇永康 最深刻的愛\n"
     ]
    },
    {
     "name": "stderr",
     "output_type": "stream",
     "text": [
      "<ipython-input-12-1b5da9b14bf9>:20: DeprecationWarning: use options instead of chrome_options\n",
      "  driver=webdriver.Chrome(chrome_options=options,executable_path=\"C:\\chromedriver.exe\")\n"
     ]
    },
    {
     "name": "stdout",
     "output_type": "stream",
     "text": [
      "蘇永康 一人精彩\n",
      "蘇永康 一起真的不易\n",
      "蘇永康 山水有相逢\n",
      "蘇永康 來夜方長\n",
      "蘇永康 我不是愛過就算的人\n",
      "蘇永康 我女人\n",
      "蘇永康 因為愛妳(更珍惜我自己)\n",
      "蘇永康 其實我很擔心\n",
      "蘇永康 相遇太早\n",
      "蘇永康 意猶未盡\n"
     ]
    }
   ],
   "source": [
    "import numpy\n",
    "import openpyxl\n",
    "from bs4 import BeautifulSoup\n",
    "from selenium import webdriver\n",
    "from selenium.webdriver.support.ui import WebDriverWait\n",
    "from selenium.webdriver.support import expected_conditions\n",
    "from selenium.webdriver.common.by import By\n",
    "wb = openpyxl.load_workbook('lyrics.xlsx')\n",
    "ws = wb.active\n",
    "myList = [row for row in ws.values]\n",
    "myArr = numpy.array(myList)\n",
    "items=list()\n",
    "for i in range(len(myArr)):\n",
    "    print(myArr[i][0])\n",
    "    url = \"https://www.youtube.com/results?search_query=\"+myArr[i][0]\n",
    "    try:\n",
    "        options = webdriver.ChromeOptions()\n",
    "        driver=webdriver.Chrome(chrome_options=options,executable_path=\"C:\\chromedriver.exe\")\n",
    "        driver.set_page_load_timeout(60)\n",
    "        driver.get(url)\n",
    "        \n",
    "        soup = BeautifulSoup(driver.page_source, 'html5lib')\n",
    "        table = soup.find(id=\"contents\")\n",
    "        c=table.find(\"a\",id=\"video-title\",class_=\"yt-simple-endpoint style-scope ytd-video-renderer\")\n",
    "        #print(\"https://www.youtube.com\"+c.get('href'))\n",
    "        href=\"https://www.youtube.com\"+c.get('href')\n",
    "        items.append((myArr[i][0],href))\n",
    "    finally:\n",
    "        driver.quit()   #關閉瀏覽器, 結束 webdriver process"
   ]
  },
  {
   "cell_type": "code",
   "execution_count": 13,
   "metadata": {
    "scrolled": true
   },
   "outputs": [
    {
     "name": "stdout",
     "output_type": "stream",
     "text": [
      "\n",
      "讀取 csv 檔\n"
     ]
    }
   ],
   "source": [
    "import csv\n",
    "with open('lyrics.csv','w',encoding='utf-8',newline='') as f: \n",
    "    writer=csv.writer(f) \n",
    "    for item in items:\n",
    "      writer.writerow((column for column in item))\n",
    "print('\\n讀取 csv 檔')"
   ]
  },
  {
   "cell_type": "code",
   "execution_count": 2,
   "metadata": {},
   "outputs": [
    {
     "name": "stdout",
     "output_type": "stream",
     "text": [
      "Requirement already satisfied: pytube in c:\\users\\user\\anaconda3\\lib\\site-packages (10.7.1)Note: you may need to restart the kernel to use updated packages.\n",
      "\n"
     ]
    }
   ],
   "source": [
    "pip install pytube"
   ]
  },
  {
   "cell_type": "code",
   "execution_count": null,
   "metadata": {},
   "outputs": [],
   "source": [
    "pip install moviepy"
   ]
  },
  {
   "cell_type": "code",
   "execution_count": null,
   "metadata": {
    "scrolled": true
   },
   "outputs": [],
   "source": [
    "from moviepy.editor import *\n",
    "import os\n",
    "import numpy\n",
    "import openpyxl\n",
    "from pytube import YouTube\n",
    "wb = openpyxl.load_workbook('團體2011-2016  1461.xlsx')\n",
    "ws = wb.active\n",
    "myList = [row for row in ws.values]\n",
    "myArr = numpy.array(myList)\n",
    "for i in range(552,1461):\n",
    "    url=myArr[i][2]\n",
    "    yt = YouTube(url)\n",
    "    video = yt.streams.filter(only_audio = True).first()\n",
    "    out_file = video.download()"
   ]
  },
  {
   "cell_type": "code",
   "execution_count": 12,
   "metadata": {},
   "outputs": [
    {
     "name": "stdout",
     "output_type": "stream",
     "text": [
      "[['因為你 所以我', '五月天 因為你 所以我作詞：阿信作曲：阿信編曲：于京延人群 煙火 香檳和氣球是你 帶我 從派對逃走逃離 人間 耳語和騷動這裡 只有 你我和星空你是 何時 靜靜靠近我你是 何時 偷偷拯救我在我 掌心 放了 一顆糖果人類 為何 都愛看天空背上 卻都 有一對傷口生在 這個 凡人的星球是否 不配 作天使的夢你將 你的 翅膀給了我帶我 穿越 狼群和鏡頭讓我 能夠 品嚐 片刻自由因為你 所以我 愛上那 片天空天空下 我在祈求 那是你 牽著我更多更詳盡歌詞 在 ※ Mojim.com\\u3000魔鏡歌詞網 最深刻 的故事 最永恆 的傳說不過 是你 是我 能夠 平凡生活因為你 所以我 所以我 不退縮再不願 這一生中 有遺憾 不反駁不再聽 別人說 不在乎 誰能懂只因 世界 再大 不過 你和我用最小回憶 堆成宇宙人生 只是 須臾的剎那人間 只是 天地的夾縫人們 何苦 要活成修羅活在 執著 對錯的牢籠是你 幫我 停下了沙漏是你 教我 別害怕闖禍是你 讓我 活得 與眾不同[00:01.19]五月天[00:13.16]因為你 所以我[00:24.13]作詞：阿信[00:27.42]作曲：阿信[00:27.42]編曲：于京延[00:29.62]五月天 因為你 所以我[00:31.43]人群 煙火 香檳和氣球[00:35.07]是你 帶我 從派對逃走[00:38.16]逃離 人間 耳語和騷動[00:41.28]這裡 只有 你我和星空[00:44.46]你是 何時 靜靜靠近我[00:47.55]你是 何時 偷偷拯救我[00:50.74]在我 掌心 放了 一顆糖果[00:55.69][00:57.11]人類 為何 都愛看天空[01:00.23]背上 卻都 有一對傷口[01:03.26]生在 這個 凡人的星球[01:06.42]是否 不配 作天使的夢[01:09.68]你將 你的 翅膀給了我[01:12.71]帶我 穿越 狼群和鏡頭[01:15.95]讓我 能夠 品嚐 片刻自由[01:21.89]因為你 所以我 愛上那 片天空[01:27.67]天空下 我在祈求 那是你 牽著我[01:34.13]最深刻 的故事 最永恆 的傳說[01:40.54]不過 是你 是我 能夠 平凡生活[01:47.75]人生 只是 須臾的剎那[01:50.75]人間 只是 天地的夾縫[01:53.78]人們 何苦 要活成修羅[01:56.90]活在 執著 對錯的牢籠[02:00.13]是你 幫我 停下了沙漏[02:03.26]是你 教我 別害怕闖禍[02:06.35]是你 讓我 活得 與眾不同[02:12.11]因為你 所以我 愛上那 片天空[02:18.36]天空下 我在祈求 那是你 牽著我[02:24.64]最深刻 的故事 最永恆 的傳說[02:31.44]不過 是你 是我 能夠 平凡生活[02:37.35]因為你 所以我 所以我 不退縮[02:43.23]再不願 這一生中 有遺憾 不反駁[02:49.93]不再聽 別人說 不在乎 誰能懂[02:56.17]只因 世界 再大 不過 你和我[03:00.17]用最小回憶 堆成宇宙[03:15.52]因為你 所以我 愛上那 片天空[03:21.42]天空下 我在祈求 那是你 牽著我[03:27.86]最深刻 的故事 最永恆 的傳說[03:34.29]不過 是你 是我 能夠 平凡生活[03:40.31]因為你 所以我 所以我 不退縮[03:46.44]再不願 這一生中 有遺憾 不反駁[03:53.01]不再聽 別人說 不在乎 誰能懂[03:59.37]只因 世界 再大 不過 你和我[04:03.48]用最小回憶 堆成宇宙 感謝 anqi  提供歌詞 感謝 JG  提供動態歌詞 感謝 比兒 op1984 正太控  修正歌詞'], ['一顆蘋果(live in the sky)', '五月天 一顆蘋果(live in the sky)作詞：阿信作曲：阿信編曲：五月天經過了漫長的等候 夢想是夢想 我還是一個我那時間忘記挽留 最美時候 不經意匆匆的放過曾經想擁抱的彩虹 盛開的花朵 那純真的笑容突然有風吹過 那一轉眼 只剩我我不懂 人世間的那些愁 他為什麼要纏著我到底這會是誰的錯 還是我不放手喔 人世間的那些愁 這世界給我的幽默這是不是要告訴我 潮起終究潮落總要有人來陪我 嚥下苦果喔 再嚐一點美夢 要等你先開口 那冬天才會走有些人經過我身旁 住在我腦中 在我心裡鑽洞更多更詳盡歌詞 在 ※ Mojim.com\\u3000魔鏡歌詞網 有些人變成相片 堆在角落 灰塵像雪一般冰凍時間如果可以倒流 我想我還是會卯起來蹉跎 反正就這樣吧我知道我 努力過我想到 遙遠遙遠的以後會不會有人知道我 在這個寂寞的星球 曾這樣的活過喔 遙遠遙遠的以後 天長和地久的盡頭應該沒有人能搶走 我永遠的感動總要有一首我的歌 大聲唱過喔 再看天地遼闊活著不多不少 幸福剛好夠用活著其實很好 再吃一顆蘋果活著其實很好 再吃一顆蘋果'], ['盛夏光年(live in the sky)', '五月天 盛夏光年(live in the sky)作詞：阿信作曲：阿信編曲：賴暐哲、五月天放棄規則 放縱去愛 放肆自己 放空未來我不轉彎 我不轉彎 我不轉彎 我不轉彎我驕傲的破壞 我痛恨的平凡 才想起那些是我最愛讓盛夏去貪玩 把殘酷的未來 狂放到光年外 而現在放棄規則 放縱去愛 放肆自己 放空未來我不轉彎 我不轉彎 我不轉彎 我不轉彎更多更詳盡歌詞 在 ※ Mojim.com\\u3000魔鏡歌詞網 我要 我瘋 我要 我愛 就是我要 我瘋 我要 我愛 現在一萬首的mp3 一萬次瘋狂的愛 滅不了一個渺小的孤單我要 我瘋 我要 我愛 就是我要 我瘋 我要 我愛 現在盛夏的一場狂歡 來到了光年之外 長大難道是人必經的潰爛放棄規則 放縱去愛 放肆自己 放空未來我不轉彎 我不轉彎 我不轉彎 我不轉彎'], ['孫悟空(live in the sky)', '五月天 孫悟空(live in the sky)作詞：阿信作曲：怪獸編曲：五月天、賴暐哲兵荒馬亂五百年來沒改變過 花果山下滿天的烽火人類累不累啊還在你爭我奪 西天取經回來後 有沒有人有讀過師父每年都會寄卡片來問候 五百張了算多不算多看到卡片我都想起那段奮鬥 金箍棒那麼神勇 現在只能掏掏耳朵齊天大聖是我 誰能奈何了我但是我卻依然 不小心 敗給了寂寞如果要讓我活 讓我有希望的活我從不怕愛錯 就怕沒愛過如果能有一天 再一次重返光榮記得找我 我的好朋友聽說悟淨已經植髮治好禿頭 有了論及婚嫁的女友八戒這個豬頭手機老是不通 好色本性多雋永 好像時間從來沒走西天取完了經 東邊應該還有更多更詳盡歌詞 在 ※ Mojim.com\\u3000魔鏡歌詞網 夥伴們好不好 讓我們 再拯救地球如果要讓我活 讓我有希望的活我從不怕愛錯 就怕沒愛過如果能有一天 再一次重返光榮記得找我 我的好朋友如果要讓我活 請給我快樂苦痛我從不怕愛錯 就怕沒愛過如果能有一天 再一次重返光榮記得找我 我的好朋友如果要讓我活 讓我有希望的活我從不怕愛錯 就怕沒愛過如果能有一天 再一次重返光榮記得找我 我的好朋友記得找我 我的好朋友'], ['星空(live in the sky)', '五月天 星空(live in the sky)作詞：阿信作曲：石頭編曲：賴暐哲、五月天、周恆毅摸不到的顏色 是否叫彩虹看不到的擁抱 是否叫做微風一個人 想著一個人 是否就叫寂寞命運偷走如果 只留下結果時間偷走初衷 只留下了苦衷你來過 然後你走後 只留下星空那一年我們望著星空未來的未來 從沒想過當故事失去美夢 美夢失去線索而我們失去聯絡這一片無言無語星空為什麼靜靜 看我淚流如果你在的時候 會不會伸手 擁抱我細數繁星閃爍 細數此生奔波更多更詳盡歌詞 在 ※ Mojim.com\\u3000魔鏡歌詞網 原來 所有 所得 所獲 不如一夜的星空空氣中的溫柔 回憶你的笑容彷彿只要伸手 就能觸摸摸不到的顏色 是否叫彩虹看不到的擁抱 是否叫做微風一個人 習慣一個人這一刻獨自望著星空從前的從前 從沒變過寂寞可以是忍受 也可以是享受享受僅有的擁有那一年我們望著星空有那麼多的 燦爛的夢至少回憶會永久 像不變星空 陪著我最後只剩下星空 像不變回憶陪著我']]\n"
     ]
    }
   ],
   "source": [
    "import requests\n",
    "from bs4 import BeautifulSoup\n",
    "import re\n",
    "import csv\n",
    "url=\"https://mojim.com/\"\n",
    "boy=\"twza1.htm\"\n",
    "girl=\"twzb1.htm\"\n",
    "team=\"twzc1.htm\"\n",
    "\n",
    "def geturl(url):\n",
    "  headers={'user-agent': 'Mozilla/5.0 (Windows NT 10.0; Win64; x64) AppleWebKit/537.36 (KHTML, like Gecko) Chrome/89.0.4389.114 Safari/537.36'}  \n",
    "  resp=requests.get(url,headers=headers)\n",
    "  soup=BeautifulSoup(resp.text,\"lxml\")\n",
    "  return soup\n",
    "\n",
    "soup=geturl(url+team)\n",
    "allsinger=soup.find(\"ul\",class_=\"s_listA\")\n",
    "singers=allsinger.find_all(\"li\")\n",
    "team_list=[]\n",
    "teamsong_list=[]\n",
    "teamsongname_list=[]\n",
    "all=[]\n",
    "dic={}\n",
    "\n",
    "for i in singers:\n",
    "  singerurl_team=i.find('a').get('href')\n",
    "  teamsinger=url+singerurl_team\n",
    "  team_list.append(teamsinger)\n",
    "\n",
    "for i in range(0,5): #len(team_list)\n",
    "  soup=geturl(team_list[i])\n",
    "  songs=soup.find_all(\"dd\",re.compile(\"hb[2?3?]\")) #hb[2]或hb[3]\n",
    "  for j in songs:\n",
    "    hc2=j.find(\"span\",class_=\"hc2\")\n",
    "    all_hc2=[c for c in hc2.stripped_strings]\n",
    "    if len(all_hc2)>1:\n",
    "      match=re.search(\"2020\",all_hc2[1]) \n",
    "      if match!=None:\n",
    "        for k in j.find_all(\"span\",re.compile(\"hc3|hc4\")):\n",
    "          for h in k.find_all('a'):\n",
    "            team_song_url=url+h.get('href')\n",
    "            teamsongname_list.append(h.text)\n",
    "            teamsong_list.append(team_song_url)\n",
    "            \n",
    "\n",
    "for i in range(0,5):\n",
    "  lyricslist=[]\n",
    "  lyricslist.append(teamsongname_list[i])\n",
    "  soup=geturl(teamsong_list[i])\n",
    "  lyrics=soup.find(\"dl\",class_=\"fsZx1\")\n",
    "  if lyrics!=None:\n",
    "    a=lyrics.text.replace('\\n',\"\")\n",
    "    lyricslist.append(a)\n",
    "  else:\n",
    "    lyricslist.append(\"\")\n",
    "  all.append(lyricslist)\n",
    "print(all)"
   ]
  },
  {
   "cell_type": "code",
   "execution_count": 10,
   "metadata": {},
   "outputs": [],
   "source": [
    "with open(\"lyrics.csv\",\"w\",encoding=\"utf-8\",newline=\"\") as f:\n",
    "  writer=csv.writer(f)\n",
    "  writer.writerow((\"歌曲\",\"歌詞\"))\n",
    "  for lyricslist in all:\n",
    "    writer.writerow((col for col in lyricslist))"
   ]
  },
  {
   "cell_type": "code",
   "execution_count": null,
   "metadata": {},
   "outputs": [],
   "source": []
  }
 ],
 "metadata": {
  "kernelspec": {
   "display_name": "Python 3",
   "language": "python",
   "name": "python3"
  },
  "language_info": {
   "codemirror_mode": {
    "name": "ipython",
    "version": 3
   },
   "file_extension": ".py",
   "mimetype": "text/x-python",
   "name": "python",
   "nbconvert_exporter": "python",
   "pygments_lexer": "ipython3",
   "version": "3.8.5"
  }
 },
 "nbformat": 4,
 "nbformat_minor": 4
}
