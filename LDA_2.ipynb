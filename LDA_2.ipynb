{
 "cells": [
  {
   "cell_type": "code",
   "execution_count": 15,
   "metadata": {},
   "outputs": [
    {
     "name": "stderr",
     "output_type": "stream",
     "text": [
      "C:\\Users\\User\\anaconda3\\lib\\site-packages\\ipykernel\\ipkernel.py:287: DeprecationWarning: `should_run_async` will not call `transform_cell` automatically in the future. Please pass the result to `transformed_cell` argument and any exception that happen during thetransform in `preprocessing_exc_tuple` in IPython 7.17 and above.\n",
      "  and should_run_async(code)\n"
     ]
    },
    {
     "name": "stdout",
     "output_type": "stream",
     "text": [
      "1631\n",
      "           歌名                                               鑑賞詞性\n",
      "607   聽見下雨的聲音  這部 電影 音樂 關係 方文山 周傑倫 打造 同名 主題 - - - 聽見 下雨 聲音 抒情...\n",
      "1238       巨鹿  和聲 安排 特別 新意 華晨 人聲 有意 採用 唱法 嗓音 模仿 動物 柔和 華美 鳴叫聲 ...\n",
      "1444       句號  句號 整首歌 充滿 傷感 惋惜 歌詞 亮點 鄧紫棋 經歷 歌手 生涯 唱片 一馬當先 旁邊 ...\n",
      "630    以後別做朋友  三金 音樂 神手 陳建騏 領軍 製作 網 封為 療傷 神麯 周興哲 傷感 嗓音 歌詞 悲傷感...\n",
      "533        落俗  落俗 弦樂 演奏 紛繁 李榮浩 唱法 層次 對號入座 演繹 一節 張弛 聲音 之間 搶奪 聽...\n",
      "550      停止跳動  傳統 情歌 汪蘇 電子 元素 多種 效果 音效 整首歌 氣場 與眾不同 歌詞 注重 細節 文...\n",
      "1009     全面淪陷  難度 音域 好唱 高音 歌詞 男女之間 愛情 那種 淡淡 純純 整張 專輯 輕快的 最讓人 ...\n",
      "237      黑暗騎士                   人生 關卡 傳達 信念 努力 曙光 象徵 音樂 騎士 拯救 世界\n",
      "816     荊棘裡的花  音樂 內容 涵蓋 雷鬼 期望 透過 富有 人文 意涵 歌詞 探究 愛情 現象 宗教 心理 哲...\n",
      "1088     面具舞會  張狂 個性 節奏感 首歌曲 融入 打碟 元素 旋律 心妍 再一次 迎接 曲風 挑戰 搖擺 雀...\n"
     ]
    }
   ],
   "source": [
    "import pandas as pd\n",
    "import chardet\n",
    "import pandas as pd\n",
    "import numpy as np\n",
    "import jieba as jb\n",
    "from sklearn.feature_extraction.text import TfidfVectorizer, CountVectorizer\n",
    "from sklearn.decomposition import NMF, LatentDirichletAllocation\n",
    "import gensim\n",
    "from gensim import corpora\n",
    "import pyLDAvis.gensim_models\n",
    "df = pd.read_excel('活頁簿1.xlsx')\n",
    "df=df[['歌名','鑑賞詞性']]\n",
    "print(len(df))\n",
    "print(df.sample(10))"
   ]
  },
  {
   "cell_type": "code",
   "execution_count": 16,
   "metadata": {},
   "outputs": [
    {
     "name": "stdout",
     "output_type": "stream",
     "text": [
      "           歌名  label_id\n",
      "0         我難過         0\n",
      "1         一直走         1\n",
      "2        天若有情         2\n",
      "3      以前, 以後         3\n",
      "4        失戀無罪         4\n",
      "...       ...       ...\n",
      "1597       無眠      1597\n",
      "1598  當我們一起走過      1598\n",
      "1599       蟬想      1599\n",
      "1600       那誰      1600\n",
      "1601     知否知否      1601\n",
      "\n",
      "[1602 rows x 2 columns]\n"
     ]
    },
    {
     "name": "stderr",
     "output_type": "stream",
     "text": [
      "C:\\Users\\User\\anaconda3\\lib\\site-packages\\ipykernel\\ipkernel.py:287: DeprecationWarning: `should_run_async` will not call `transform_cell` automatically in the future. Please pass the result to `transformed_cell` argument and any exception that happen during thetransform in `preprocessing_exc_tuple` in IPython 7.17 and above.\n",
      "  and should_run_async(code)\n"
     ]
    }
   ],
   "source": [
    "df['label_id'] = df['歌名'].factorize()[0]\n",
    "label_id_df = df[['歌名', 'label_id']].drop_duplicates().sort_values('label_id').reset_index(drop=True)\n",
    "print(label_id_df)"
   ]
  },
  {
   "cell_type": "code",
   "execution_count": 17,
   "metadata": {},
   "outputs": [
    {
     "name": "stdout",
     "output_type": "stream",
     "text": [
      "       歌名                                               鑑賞詞性  label_id  \\\n",
      "0     我難過  偶像劇 搭配 情人 熱播 難過 觀眾 熟悉 當年 罵聲 掌聲 時間 年級 成名 鄉民 稱作 ...         0   \n",
      "1     一直走  擷取 獨特 節奏 音色 元素 入耳 感受到 黃麗玲 歡暢 情緒 爽朗 愉悅 電音 節拍 包裹...         1   \n",
      "2    天若有情  情歌 美譽 歌聲 感情 拿捏 精準 到位 主歌 青衣 刻骨銘心 中音 傳達 細微 悲傷 雨水...         2   \n",
      "3  以前, 以後  姚若龍 細碎 歌詞 筆觸 流露 純熟 女人味 坦然 心情 已成 未知 經 傾吐 黃麗玲 大氣...         3   \n",
      "4    失戀無罪  首波 主打歌 失戀 無罪 最佳 作詞人 林夕 量身 訂做 送給 男友 劈腿 藉由 親身經驗 ...         4   \n",
      "\n",
      "                                            cut_text  \n",
      "0  偶像劇 搭配 情人 熱播 難過 觀眾 熟悉 當年 罵聲 掌聲 時間 年級 成名 鄉民 稱作 ...  \n",
      "1  擷取 獨特 節奏 音色 元素 入耳 感受到 黃麗玲 歡暢 情緒 爽朗 愉悅 電音 節拍 包裹...  \n",
      "2  情歌 美譽 歌聲 感情 拿捏 精準 到位 主歌 青衣 刻骨銘心 中音 傳達 細微 悲傷 雨水...  \n",
      "3  姚若龍 細碎 歌詞 筆觸 流露 純熟 女人味 坦然 心情 已成 未知 經 傾吐 黃麗玲 大氣...  \n",
      "4  首波 主打歌 失戀 無罪 最佳 作詞人 林夕 量身 訂做 送給 男友 劈腿 藉由 親身經驗 ...  \n"
     ]
    },
    {
     "name": "stderr",
     "output_type": "stream",
     "text": [
      "C:\\Users\\User\\anaconda3\\lib\\site-packages\\ipykernel\\ipkernel.py:287: DeprecationWarning: `should_run_async` will not call `transform_cell` automatically in the future. Please pass the result to `transformed_cell` argument and any exception that happen during thetransform in `preprocessing_exc_tuple` in IPython 7.17 and above.\n",
      "  and should_run_async(code)\n"
     ]
    }
   ],
   "source": [
    "df['cut_text'] = df['鑑賞詞性']\n",
    "print(df.head())"
   ]
  },
  {
   "cell_type": "code",
   "execution_count": 18,
   "metadata": {},
   "outputs": [
    {
     "name": "stderr",
     "output_type": "stream",
     "text": [
      "C:\\Users\\User\\anaconda3\\lib\\site-packages\\ipykernel\\ipkernel.py:287: DeprecationWarning: `should_run_async` will not call `transform_cell` automatically in the future. Please pass the result to `transformed_cell` argument and any exception that happen during thetransform in `preprocessing_exc_tuple` in IPython 7.17 and above.\n",
      "  and should_run_async(code)\n"
     ]
    }
   ],
   "source": [
    "no_features = 1000\n",
    "\n",
    "\n",
    "tfidf = TfidfVectorizer(max_features=no_features)\n",
    "tfidf_features = tfidf.fit_transform(df.cut_text)\n",
    "tfidf_feature_names = tfidf.get_feature_names()\n",
    "\n",
    "\n",
    "cv = CountVectorizer(max_features=no_features)\n",
    "cv_features = cv.fit_transform(df.cut_text)\n",
    "cv_feature_names = cv.get_feature_names()"
   ]
  },
  {
   "cell_type": "code",
   "execution_count": 19,
   "metadata": {},
   "outputs": [
    {
     "name": "stderr",
     "output_type": "stream",
     "text": [
      "C:\\Users\\User\\anaconda3\\lib\\site-packages\\ipykernel\\ipkernel.py:287: DeprecationWarning: `should_run_async` will not call `transform_cell` automatically in the future. Please pass the result to `transformed_cell` argument and any exception that happen during thetransform in `preprocessing_exc_tuple` in IPython 7.17 and above.\n",
      "  and should_run_async(code)\n"
     ]
    }
   ],
   "source": [
    "#NMF\n",
    "nmf_tfidf = NMF(n_components=15, random_state=1, alpha=.1, l1_ratio=.5, init='nndsvd').fit(tfidf_features)\n",
    "\n",
    "#LDA\n",
    "lda_cv = LatentDirichletAllocation(n_components=15, max_iter=5, learning_method='online', learning_offset=50.,random_state=0).fit(cv_features)"
   ]
  },
  {
   "cell_type": "code",
   "execution_count": 23,
   "metadata": {},
   "outputs": [
    {
     "name": "stdout",
     "output_type": "stream",
     "text": [
      "---------------NMF-tfidf_features 主題-----------------------------------------\n",
      "分類 0 : 歌詞|情感|聲音|演繹|情緒|演唱|歌聲|充滿|內心|聽眾\n",
      "分類 1 : 力量|希望|能量|鼓勵|傳遞|創作|勇敢|溫暖|勇氣|帶給\n",
      "分類 2 : 生活|平凡|心中|平淡|幸福|發現|工作|日子|場景|態度\n",
      "分類 3 : 描述|戀情|心情|歌詞|美好|柔軟|等待|感覺|風格|擁有\n",
      "分類 4 : 專輯|概念|主打|整張|同名|主打歌|創作|演唱|歌迷|收錄\n",
      "分類 5 : 故事|講述|孤獨|主角|回憶|電影|發生|背後|男生|導演\n",
      "分類 6 : 簡單|創作|歌詞|乾淨|溫馨|直白|作品|鋼琴|熱愛|象徵\n",
      "分類 7 : 節奏|搖滾|元素|風格|音樂|電子|歌詞|感覺|輕快|電音\n",
      "分類 8 : 時間|時光|之間|歲月|變化|回憶|朋友|父母|身邊|距離\n",
      "分類 9 : 世界|帶來|人生|守護|希望|改變|音樂|天使|視角|暗示\n",
      "分類 10 : 愛情|戀人|階段|幸福|男女|兩人|女生|相愛|之間|甜蜜\n",
      "分類 11 : 感情|分手|分開|逝去|回憶|這段|描寫|祝福|結束|男生\n",
      "分類 12 : 夢想|放棄|努力|追求|成員|追尋|追夢|鼓勵|熱血|主題\n",
      "分類 13 : 展現|呈現|魅力|兩人|聽眾|完美|方式|張碧晨|唱功|之間\n",
      "分類 14 : 情歌|甜蜜|分手|周傑倫|勵志|傷感|典型|表現|悲傷|情侶\n",
      "\n",
      "--------------Lda-CountVectorizer_features 主題--------------------------------\n",
      "分類 0 : 時刻|公司|唱片|經驗|三人|大膽|歌迷|相遇|故事|釋懷\n",
      "分類 1 : 戀人|愛情|女生|在一起|答案|尋找|歌詞|階段|深愛|終於\n",
      "分類 2 : 歌詞|愛情|情感|感情|情歌|故事|情緒|聲音|演繹|簡單\n",
      "分類 3 : 感覺|輕鬆|戀情|性感|那種|描述|意味|柔軟|美好|嗓音\n",
      "分類 4 : 飽含|心路歷程|完美|魅力|理解|走來|完美的|三人|用心|女人\n",
      "分類 5 : 歌詞|音樂|節奏|作品|風格|感覺|聽眾|情緒|充滿|世界\n",
      "分類 6 : 嗓音|演繹|聲音|展現|男女|風格|浪漫|歌詞|魅力|演唱\n",
      "分類 7 : 男生|故事|女生|那種|有種|愛情|感覺|長大|周傑倫|喜歡\n",
      "分類 8 : 創作|歌詞|音樂|想到|元素|專輯|聽到|主打|風格|快歌\n",
      "分類 9 : 終點|勵志|錶情|瞭對|演唱|可愛|感人的|誓言|刻骨銘心|到位\n",
      "分類 10 : 生活|夢想|勇敢|希望|溫暖|放棄|鼓勵|努力|力量|追求\n",
      "分類 11 : 父親|孩子|背後|打開|對話|無數|初戀|全世界|心境|伴奏\n",
      "分類 12 : 主題|音樂|歌詞|愛情|電影|專輯|故事|創作|世界|製作\n",
      "分類 13 : 歌詞|專輯|幸福|創作|身邊|愛情|時間|歌迷|簡單|心情\n",
      "分類 14 : 歌壇|表現|留下|搖滾|年輕|遇見|不願|遠方|唱功|很好\n"
     ]
    },
    {
     "name": "stderr",
     "output_type": "stream",
     "text": [
      "C:\\Users\\User\\anaconda3\\lib\\site-packages\\ipykernel\\ipkernel.py:287: DeprecationWarning: `should_run_async` will not call `transform_cell` automatically in the future. Please pass the result to `transformed_cell` argument and any exception that happen during thetransform in `preprocessing_exc_tuple` in IPython 7.17 and above.\n",
      "  and should_run_async(code)\n"
     ]
    }
   ],
   "source": [
    "def display_topics(model, feature_names, no_top_words):\n",
    "    for topic_idx, topic in enumerate(model.components_):\n",
    "        print(\"分類 {} : {}\".format(topic_idx,\"|\".join([feature_names[i] for i in topic.argsort()[:-no_top_words - 1:-1]])))\n",
    "\n",
    "no_top_words = 10\n",
    "print('---------------NMF-tfidf_features 主題-----------------------------------------')\n",
    "display_topics(nmf_tfidf, tfidf_feature_names, no_top_words)\n",
    "print()\n",
    "print('--------------Lda-CountVectorizer_features 主題--------------------------------')\n",
    "display_topics(lda_cv, cv_feature_names, no_top_words)"
   ]
  },
  {
   "cell_type": "code",
   "execution_count": 21,
   "metadata": {},
   "outputs": [
    {
     "name": "stderr",
     "output_type": "stream",
     "text": [
      "C:\\Users\\User\\anaconda3\\lib\\site-packages\\ipykernel\\ipkernel.py:287: DeprecationWarning: `should_run_async` will not call `transform_cell` automatically in the future. Please pass the result to `transformed_cell` argument and any exception that happen during thetransform in `preprocessing_exc_tuple` in IPython 7.17 and above.\n",
      "  and should_run_async(code)\n",
      "Building prefix dict from C:\\Users\\User\\dict.txt.big ...\n",
      "Loading model from cache C:\\Users\\User\\AppData\\Local\\Temp\\jieba.u7bdefbdcea8835a8c0038be7dab8bef4.cache\n",
      "Loading model cost 1.817 seconds.\n",
      "Prefix dict has been built successfully.\n"
     ]
    }
   ],
   "source": [
    "import jieba.posseg as psg\n",
    "import numpy\n",
    "from collections import Counter\n",
    "import openpyxl\n",
    "import jieba\n",
    "\n",
    "jieba.set_dictionary('dict.txt.big')\n",
    "jieba.load_userdict('userdict.txt') \n",
    "with open('stops.txt', 'r', encoding='utf8') as f: \n",
    "    stops = f.read().split('\\n') \n",
    "data=[]\n",
    "data1=[]\n",
    "allsong=[]\n",
    "wb = openpyxl.load_workbook('活頁簿1.xlsx')\n",
    "wb1 = openpyxl.load_workbook('詞性.xlsx')\n",
    "ws = wb.active\n",
    "ws1 = wb1.active\n",
    "myList = [row for row in ws.values]\n",
    "myList1 = [row for row in ws1.values]\n",
    "myArr = numpy.array(myList)\n",
    "myArr1 = numpy.array(myList1)\n",
    "for i in range(1,1632):\n",
    "    lyric=myArr[i][4]\n",
    "    content=[]\n",
    "    new_content=[]\n",
    "    song=[]\n",
    "    stops.append('\\n\\n') \n",
    "    for sent in lyric.split(): \n",
    "        filtered= [t for t in jieba.cut(sent) if t not in stops and t.split() and len(t)>1 ]# jieba.cut()回傳generator，要用forloop取值\n",
    "        content+=filtered\n",
    "        for i in content:\n",
    "            if i not in new_content:\n",
    "                new_content.append(i)\n",
    "    #print(new_content)\n",
    "    for j in range(len(new_content)):\n",
    "        seg = psg.cut((new_content[j])) \n",
    "        for ele in seg:\n",
    "            #print(ele)\n",
    "            a='/'.join(ele)\n",
    "                #print(type(ele))\n",
    "            c=a.split(\"/\")\n",
    "            #print(c)結巴斷詞器的詞性標註分析\n",
    "            for i in range(len(myArr1)):\n",
    "                if(c[1]==myArr1[i][0]):\n",
    "                    song.append(c[0])\n",
    "    #print(song)\n",
    "    data.append(song)"
   ]
  },
  {
   "cell_type": "code",
   "execution_count": 22,
   "metadata": {},
   "outputs": [
    {
     "name": "stderr",
     "output_type": "stream",
     "text": [
      "C:\\Users\\User\\anaconda3\\lib\\site-packages\\ipykernel\\ipkernel.py:287: DeprecationWarning: `should_run_async` will not call `transform_cell` automatically in the future. Please pass the result to `transformed_cell` argument and any exception that happen during thetransform in `preprocessing_exc_tuple` in IPython 7.17 and above.\n",
      "  and should_run_async(code)\n"
     ]
    },
    {
     "name": "stdout",
     "output_type": "stream",
     "text": [
      "總數: 755\n",
      "0 : [1, 6, 15, 17, 21, 26, 27, 29, 31, 35, 40, 46, 47, 48, 50, 54, 56, 57, 58, 59, 61, 63, 71, 74, 75, 76, 79, 80, 83, 84, 85, 86, 88, 93, 94, 95, 96, 99, 102, 103, 108, 110, 111, 113, 114, 117, 118, 120, 121, 122, 123, 126, 128, 129, 130, 132, 133, 137, 139, 141, 145, 152, 156, 158, 159, 161, 167, 170, 181, 184, 185, 186, 191, 194, 195, 196, 197, 198, 203, 207, 208, 212, 213, 215, 217, 221, 222, 223, 224, 229, 230, 231, 233, 235, 238, 239, 244, 245, 247, 249, 250, 251, 252, 256, 261, 265, 267, 268, 270, 275, 276, 278, 279, 281, 283, 284, 285, 286, 287, 289, 290, 291, 292, 294, 297, 299, 300, 302, 304, 305, 306, 307, 313, 314, 316, 320, 323, 324, 326, 327, 329, 332, 338, 339, 344, 348, 354, 355, 356, 359, 360, 361, 364, 365, 368, 370, 376, 379, 381, 382, 383, 387, 388, 389, 392, 394, 395, 396, 400, 401, 402, 404, 407, 410, 411, 412, 414, 415, 416, 417, 418, 419, 423, 425, 429, 430, 432, 435, 436, 437, 439, 440, 443, 444, 450, 451, 452, 456, 458, 462, 464, 467, 468, 469, 471, 472, 473, 478, 481, 482, 483, 489, 490, 496, 497, 501, 503, 504, 505, 508, 510, 514, 515, 517, 522, 523, 529, 531, 532, 533, 534, 535, 538, 540, 541, 542, 543, 545, 546, 547, 555, 556, 557, 562, 563, 565, 567, 569, 570, 571, 572, 573, 574, 578, 582, 583, 585, 586, 588, 589, 590, 591, 592, 595, 596, 597, 600, 601, 602, 604, 607, 612, 614, 617, 619, 621, 626, 629, 630, 638, 644, 645, 646, 649, 654, 655, 656, 658, 659, 660, 661, 663, 664, 665, 667, 670, 671, 673, 674, 676, 677, 680, 681, 683, 684, 685, 689, 692, 693, 695, 697, 698, 700, 704, 705, 707, 708, 710, 712, 714, 723, 728, 730, 733, 735, 741, 742, 746, 747, 749, 750, 752, 755, 756, 764, 769, 773, 775, 776, 777, 778, 780, 782, 788, 789, 790, 792, 796, 798, 800, 805, 808, 813, 814, 815, 817, 822, 823, 825, 826, 827, 828, 829, 830, 832, 833, 834, 837, 841, 846, 850, 851, 853, 854, 855, 857, 860, 861, 863, 864, 865, 866, 869, 872, 874, 875, 876, 877, 879, 882, 885, 886, 887, 890, 893, 895, 897, 898, 899, 900, 902, 905, 908, 910, 911, 914, 915, 916, 922, 923, 924, 927, 930, 931, 932, 933, 934, 935, 936, 939, 940, 941, 943, 947, 948, 950, 952, 954, 957, 958, 960, 968, 971, 972, 974, 975, 976, 978, 980, 981, 986, 988, 989, 990, 994, 995, 998, 1000, 1002, 1011, 1015, 1016, 1018, 1019, 1024, 1025, 1026, 1030, 1031, 1034, 1040, 1042, 1044, 1047, 1049, 1052, 1057, 1058, 1060, 1061, 1068, 1069, 1072, 1073, 1074, 1076, 1077, 1078, 1079, 1080, 1085, 1087, 1088, 1094, 1095, 1096, 1097, 1099, 1101, 1108, 1109, 1110, 1113, 1116, 1117, 1119, 1121, 1123, 1125, 1128, 1132, 1136, 1137, 1138, 1140, 1143, 1147, 1148, 1150, 1151, 1154, 1156, 1157, 1158, 1161, 1162, 1163, 1166, 1167, 1168, 1170, 1174, 1175, 1176, 1177, 1179, 1181, 1182, 1187, 1188, 1189, 1190, 1192, 1194, 1199, 1200, 1201, 1206, 1209, 1210, 1211, 1213, 1214, 1215, 1218, 1219, 1226, 1227, 1230, 1235, 1239, 1245, 1246, 1248, 1249, 1253, 1255, 1259, 1260, 1261, 1265, 1267, 1268, 1270, 1271, 1273, 1274, 1275, 1278, 1279, 1280, 1283, 1285, 1286, 1287, 1288, 1289, 1290, 1293, 1300, 1301, 1302, 1304, 1306, 1307, 1308, 1311, 1313, 1314, 1318, 1320, 1321, 1324, 1325, 1327, 1329, 1331, 1333, 1335, 1336, 1337, 1338, 1341, 1344, 1349, 1351, 1352, 1353, 1355, 1356, 1357, 1363, 1364, 1366, 1369, 1372, 1373, 1375, 1376, 1378, 1379, 1380, 1381, 1382, 1383, 1384, 1390, 1391, 1392, 1393, 1394, 1396, 1397, 1400, 1401, 1407, 1408, 1409, 1412, 1413, 1414, 1415, 1418, 1420, 1421, 1424, 1425, 1428, 1429, 1430, 1432, 1433, 1434, 1435, 1436, 1437, 1440, 1443, 1444, 1445, 1446, 1453, 1454, 1456, 1457, 1458, 1461, 1464, 1466, 1467, 1469, 1473, 1475, 1477, 1479, 1484, 1485, 1486, 1487, 1489, 1490, 1491, 1492, 1493, 1495, 1496, 1497, 1498, 1502, 1504, 1506, 1507, 1508, 1509, 1510, 1513, 1514, 1515, 1516, 1521, 1522, 1523, 1525, 1526, 1529, 1530, 1532, 1535, 1538, 1542, 1544, 1545, 1546, 1549, 1551, 1557, 1558, 1560, 1561, 1562, 1563, 1564, 1566, 1567, 1569, 1570, 1572, 1573, 1574, 1575, 1576, 1577, 1578, 1579, 1582, 1584, 1589, 1597, 1599, 1601, 1603, 1606, 1607, 1608, 1610, 1612, 1615, 1618, 1619, 1622, 1623, 1624, 1627, 1628, 1630]\n",
      "總數: 55\n",
      "1 : [78, 82, 125, 210, 253, 277, 345, 362, 422, 428, 445, 457, 479, 480, 487, 493, 500, 507, 539, 581, 587, 609, 635, 641, 717, 754, 768, 783, 795, 819, 918, 964, 1009, 1010, 1035, 1075, 1105, 1107, 1124, 1171, 1178, 1203, 1220, 1223, 1262, 1328, 1416, 1417, 1449, 1451, 1463, 1511, 1540, 1552, 1580]\n",
      "總數: 92\n",
      "2 : [2, 3, 116, 119, 124, 142, 163, 174, 188, 200, 204, 211, 227, 288, 310, 312, 330, 336, 340, 366, 374, 433, 446, 460, 463, 475, 494, 584, 605, 620, 627, 642, 657, 672, 703, 706, 709, 757, 797, 812, 824, 847, 870, 880, 894, 917, 920, 970, 983, 991, 993, 996, 1003, 1027, 1037, 1064, 1067, 1086, 1092, 1120, 1135, 1141, 1146, 1152, 1183, 1195, 1207, 1234, 1242, 1254, 1266, 1269, 1291, 1317, 1323, 1334, 1347, 1348, 1370, 1404, 1448, 1474, 1517, 1518, 1520, 1543, 1554, 1565, 1581, 1590, 1611, 1614]\n",
      "總數: 16\n",
      "3 : [90, 179, 189, 255, 280, 331, 378, 842, 919, 1065, 1142, 1165, 1191, 1225, 1339, 1472]\n",
      "總數: 11\n",
      "4 : [14, 24, 162, 177, 434, 506, 639, 862, 896, 907, 1055]\n",
      "總數: 103\n",
      "5 : [8, 62, 127, 135, 150, 153, 165, 178, 209, 226, 242, 262, 266, 272, 308, 319, 335, 342, 347, 367, 385, 405, 406, 427, 465, 488, 544, 560, 575, 606, 610, 611, 647, 650, 651, 652, 675, 679, 691, 694, 726, 740, 745, 760, 772, 774, 791, 802, 818, 820, 845, 849, 881, 909, 921, 928, 944, 945, 949, 982, 1005, 1020, 1038, 1050, 1059, 1106, 1131, 1139, 1155, 1169, 1186, 1198, 1202, 1212, 1221, 1232, 1233, 1236, 1237, 1240, 1250, 1256, 1257, 1315, 1322, 1340, 1345, 1358, 1385, 1399, 1406, 1481, 1488, 1512, 1524, 1533, 1548, 1553, 1559, 1585, 1596, 1600, 1602]\n",
      "總數: 82\n",
      "6 : [10, 12, 22, 65, 67, 69, 70, 91, 97, 100, 106, 107, 115, 131, 148, 149, 151, 175, 180, 183, 202, 218, 225, 254, 303, 309, 315, 341, 343, 346, 349, 351, 352, 357, 403, 470, 484, 525, 528, 566, 568, 579, 593, 615, 616, 618, 623, 633, 686, 720, 781, 799, 836, 848, 859, 912, 913, 984, 999, 1004, 1007, 1014, 1028, 1029, 1033, 1039, 1041, 1104, 1112, 1129, 1149, 1153, 1159, 1244, 1263, 1305, 1332, 1360, 1374, 1386, 1426, 1625]\n",
      "總數: 67\n",
      "7 : [23, 45, 55, 60, 77, 112, 138, 144, 160, 228, 263, 282, 295, 375, 408, 449, 461, 466, 486, 550, 554, 577, 622, 634, 640, 678, 711, 725, 734, 739, 751, 770, 771, 793, 856, 858, 906, 938, 942, 956, 963, 967, 985, 1111, 1173, 1180, 1204, 1208, 1243, 1297, 1330, 1395, 1402, 1403, 1438, 1439, 1441, 1460, 1462, 1501, 1519, 1539, 1550, 1555, 1568, 1594, 1616]\n",
      "總數: 84\n",
      "8 : [4, 5, 20, 25, 30, 32, 33, 34, 36, 37, 38, 39, 41, 42, 43, 49, 87, 98, 134, 171, 214, 220, 259, 260, 318, 333, 337, 350, 358, 393, 399, 424, 441, 495, 536, 553, 561, 594, 599, 603, 632, 643, 653, 736, 765, 766, 767, 784, 787, 794, 801, 803, 804, 806, 878, 889, 901, 903, 946, 951, 973, 979, 1017, 1053, 1056, 1083, 1126, 1144, 1303, 1367, 1389, 1405, 1410, 1419, 1422, 1427, 1480, 1482, 1494, 1537, 1592, 1604, 1605, 1629]\n",
      "總數: 16\n",
      "9 : [64, 68, 168, 192, 234, 453, 537, 743, 884, 904, 1032, 1081, 1103, 1229, 1423, 1586]\n",
      "總數: 86\n",
      "10 : [7, 19, 89, 105, 136, 143, 147, 154, 157, 169, 190, 193, 199, 219, 237, 269, 271, 274, 311, 321, 322, 328, 334, 373, 377, 380, 442, 454, 459, 476, 491, 502, 558, 576, 613, 628, 637, 648, 666, 682, 699, 701, 702, 716, 727, 731, 737, 748, 786, 809, 810, 831, 926, 987, 997, 1006, 1013, 1023, 1046, 1051, 1084, 1089, 1118, 1145, 1196, 1197, 1216, 1228, 1241, 1252, 1264, 1277, 1282, 1295, 1343, 1398, 1452, 1468, 1478, 1483, 1527, 1541, 1583, 1587, 1593, 1609]\n",
      "總數: 34\n",
      "11 : [0, 104, 182, 201, 205, 243, 248, 273, 293, 317, 363, 438, 477, 492, 519, 527, 696, 715, 718, 719, 721, 738, 753, 811, 925, 937, 992, 1045, 1063, 1102, 1115, 1130, 1133, 1319]\n",
      "總數: 78\n",
      "12 : [18, 155, 166, 232, 240, 241, 258, 264, 369, 391, 413, 447, 448, 455, 511, 512, 513, 520, 524, 526, 530, 559, 608, 624, 625, 636, 688, 690, 713, 722, 724, 732, 759, 761, 807, 816, 835, 838, 839, 840, 843, 867, 868, 871, 883, 888, 929, 953, 955, 965, 977, 1008, 1036, 1043, 1082, 1091, 1093, 1098, 1100, 1184, 1217, 1238, 1247, 1284, 1296, 1309, 1312, 1326, 1346, 1354, 1361, 1388, 1450, 1503, 1505, 1536, 1571, 1598]\n",
      "總數: 142\n",
      "13 : [9, 11, 13, 16, 28, 44, 51, 52, 66, 73, 81, 92, 101, 109, 140, 146, 172, 173, 176, 187, 206, 216, 236, 246, 257, 296, 298, 301, 325, 353, 371, 372, 384, 397, 398, 409, 420, 426, 431, 474, 485, 498, 509, 516, 518, 521, 548, 549, 551, 552, 564, 580, 598, 631, 662, 668, 669, 687, 729, 744, 758, 762, 763, 779, 785, 821, 844, 852, 873, 891, 892, 959, 961, 962, 966, 969, 1001, 1012, 1021, 1048, 1054, 1062, 1066, 1070, 1071, 1090, 1114, 1122, 1127, 1134, 1160, 1164, 1172, 1185, 1193, 1205, 1222, 1224, 1231, 1258, 1272, 1276, 1281, 1292, 1294, 1298, 1310, 1316, 1342, 1350, 1359, 1362, 1365, 1368, 1371, 1377, 1387, 1411, 1431, 1442, 1447, 1455, 1459, 1465, 1470, 1471, 1476, 1499, 1500, 1528, 1531, 1534, 1547, 1556, 1588, 1591, 1595, 1613, 1617, 1620, 1621, 1626]\n",
      "總數: 10\n",
      "14 : [53, 72, 164, 386, 390, 421, 499, 1022, 1251, 1299]\n"
     ]
    }
   ],
   "source": [
    "import re\n",
    "def remove_punctuation(line):\n",
    "    line = str(line)\n",
    "    if line.strip()=='':\n",
    "        return ''\n",
    "    rule = re.compile(u\"[^\\u4E00-\\u9FA5]\")\n",
    "    line = rule.sub('',line)\n",
    "    return line\n",
    "def predict_topic_by_cv(text):\n",
    "    #txt = remove_punctuation(text)\n",
    "    #txt = [w for w in list(jb.cut(txt)) if w not in stopwords]\n",
    "    #txt = [w for w in txt if len(w)>1]\n",
    "    #txt = [\" \".join([w for w in txt])]\n",
    "    #a=[\"專輯\",\"音樂\",\"概念\",\"私語\",\"唱歌\",\"對話\",\"希望\",\"著這\",\"傳遞\",\"樂觀\",\"能量\",\"鼓勵\",\"所有人\",\"勇敢\"]\n",
    "    newfeature = cv.transform(text)\n",
    "    doc_topic_dist_unnormalized = np.matrix(lda_cv.transform(newfeature))\n",
    "    doc_topic_dist = doc_topic_dist_unnormalized/doc_topic_dist_unnormalized.sum(axis=1)\n",
    "    topicIdx = doc_topic_dist.argmax(axis=1)[0,0]\n",
    "    #print('該文檔屬於:主題 {}'.format(topicIdx))\n",
    "    #print(\"主題 {} : {}\".format(topicIdx,\"|\".join([cv_feature_names[i] for i in (lda_cv.components_[topicIdx,:]).argsort()[:-no_top_words - 1:-1]])))\n",
    "    return topicIdx\n",
    "a=[]      \n",
    "b=[]      \n",
    "c=[]      \n",
    "d=[]      \n",
    "e=[]\n",
    "f=[]\n",
    "j=[]\n",
    "i=[]\n",
    "o=[]\n",
    "t=[]\n",
    "g=[]\n",
    "h=[]\n",
    "n=[]\n",
    "s=[]\n",
    "m=[]\n",
    "r=[]\n",
    "l=[]\n",
    "q=[]\n",
    "k=[]\n",
    "p=[]\n",
    "dict={0:a,1:b,2:c,3:d,4:e,5:f,6:g,7:h,8:i,9:j,10:k,11:l,12:m,13:n,14:o,15:p,16:q,17:r,18:s,19:t}\n",
    "for i in range(len(data)):\n",
    "    a=predict_topic_by_cv(data[i])\n",
    "    if(a in dict):\n",
    "        dict[a].append(i)\n",
    "    #print(data[i])\n",
    "for i in range(0,15):\n",
    "    print(\"總數:\",len(dict[i]))\n",
    "    print(i,\":\",dict[i])"
   ]
  },
  {
   "cell_type": "code",
   "execution_count": 9,
   "metadata": {},
   "outputs": [
    {
     "name": "stdout",
     "output_type": "stream",
     "text": [
      "[78, 82, 125, 210, 253, 277, 345, 362, 422, 428, 445, 457, 479, 480, 487, 493, 500, 507, 539, 581, 587, 609, 635, 641, 717, 754, 768, 783, 795, 819, 918, 964, 1009, 1010, 1035, 1075, 1105, 1107, 1124, 1171, 1178, 1203, 1220, 1223, 1262, 1328, 1416, 1417, 1449, 1451, 1463, 1511, 1540, 1552, 1580]\n"
     ]
    },
    {
     "name": "stderr",
     "output_type": "stream",
     "text": [
      "C:\\Users\\User\\anaconda3\\lib\\site-packages\\ipykernel\\ipkernel.py:287: DeprecationWarning: `should_run_async` will not call `transform_cell` automatically in the future. Please pass the result to `transformed_cell` argument and any exception that happen during thetransform in `preprocessing_exc_tuple` in IPython 7.17 and above.\n",
      "  and should_run_async(code)\n"
     ]
    }
   ],
   "source": [
    "print(dict[1])"
   ]
  },
  {
   "cell_type": "code",
   "execution_count": 10,
   "metadata": {},
   "outputs": [
    {
     "name": "stderr",
     "output_type": "stream",
     "text": [
      "C:\\Users\\User\\anaconda3\\lib\\site-packages\\ipykernel\\ipkernel.py:287: DeprecationWarning: `should_run_async` will not call `transform_cell` automatically in the future. Please pass the result to `transformed_cell` argument and any exception that happen during thetransform in `preprocessing_exc_tuple` in IPython 7.17 and above.\n",
      "  and should_run_async(code)\n"
     ]
    }
   ],
   "source": [
    "import openpyxl\n",
    "import numpy\n",
    "wb = openpyxl.load_workbook('活頁簿1.xlsx')\n",
    "ws = wb.active\n",
    "myList = [row for row in ws.values]\n",
    "myArr = numpy.array(myList)\n",
    "all1=[]\n",
    "for i in range(len(dict[14])):\n",
    "    song=[]\n",
    "    a=dict[14][i]\n",
    "    for j in range(0,6):\n",
    "        song.append(myArr[a+1][j])\n",
    "    all1.append(song)\n",
    "#print(all1)"
   ]
  },
  {
   "cell_type": "code",
   "execution_count": 11,
   "metadata": {},
   "outputs": [
    {
     "name": "stdout",
     "output_type": "stream",
     "text": [
      "\n",
      "讀取 csv 檔\n"
     ]
    },
    {
     "name": "stderr",
     "output_type": "stream",
     "text": [
      "C:\\Users\\User\\anaconda3\\lib\\site-packages\\ipykernel\\ipkernel.py:287: DeprecationWarning: `should_run_async` will not call `transform_cell` automatically in the future. Please pass the result to `transformed_cell` argument and any exception that happen during thetransform in `preprocessing_exc_tuple` in IPython 7.17 and above.\n",
      "  and should_run_async(code)\n"
     ]
    }
   ],
   "source": [
    "import csv\n",
    "with open('lyrics.csv','w',encoding='utf-8',newline='') as f: #開啟輸出的CSV檔案\n",
    "    writer=csv.writer(f) #建立CSV檔寫入器\n",
    "    writer.writerow(['歌手','歌名','YouTube id','YouTube 網址','鑑賞斷詞','歌詞斷詞'])\n",
    "    for item in all1:\n",
    "        writer.writerow((column for column in item))\n",
    "print('\\n讀取 csv 檔')"
   ]
  },
  {
   "cell_type": "code",
   "execution_count": 12,
   "metadata": {},
   "outputs": [
    {
     "name": "stdout",
     "output_type": "stream",
     "text": [
      "13\n"
     ]
    },
    {
     "name": "stderr",
     "output_type": "stream",
     "text": [
      "C:\\Users\\User\\anaconda3\\lib\\site-packages\\ipykernel\\ipkernel.py:287: DeprecationWarning: `should_run_async` will not call `transform_cell` automatically in the future. Please pass the result to `transformed_cell` argument and any exception that happen during thetransform in `preprocessing_exc_tuple` in IPython 7.17 and above.\n",
      "  and should_run_async(code)\n"
     ]
    }
   ],
   "source": [
    "def predict_topic_by_cv(text):\n",
    "    #txt = remove_punctuation(text)\n",
    "    #txt = [w for w in list(jb.cut(txt)) if w not in stopwords]\n",
    "    #txt = [w for w in txt if len(w)>1]\n",
    "    #txt = [\" \".join([w for w in txt])]\n",
    "    #a=[\"專輯\",\"音樂\",\"概念\",\"私語\",\"唱歌\",\"對話\",\"希望\",\"著這\",\"傳遞\",\"樂觀\",\"能量\",\"鼓勵\",\"所有人\",\"勇敢\"]\n",
    "    newfeature = cv.transform(text)\n",
    "    doc_topic_dist_unnormalized = np.matrix(lda_cv.transform(newfeature))\n",
    "    doc_topic_dist = doc_topic_dist_unnormalized/doc_topic_dist_unnormalized.sum(axis=1)\n",
    "    topicIdx = doc_topic_dist.argmax(axis=1)[0,0]\n",
    "    #print('該文檔屬於:主題 {}'.format(topicIdx))\n",
    "    #print(\"主題 {} : {}\".format(topicIdx,\"|\".join([cv_feature_names[i] for i in (lda_cv.components_[topicIdx,:]).argsort()[:-no_top_words - 1:-1]])))\n",
    "    return topicIdx\n",
    "a=[\"朋友\"]\n",
    "h=predict_topic_by_cv(a)\n",
    "print(h)"
   ]
  }
 ],
 "metadata": {
  "kernelspec": {
   "display_name": "Python 3",
   "language": "python",
   "name": "python3"
  },
  "language_info": {
   "codemirror_mode": {
    "name": "ipython",
    "version": 3
   },
   "file_extension": ".py",
   "mimetype": "text/x-python",
   "name": "python",
   "nbconvert_exporter": "python",
   "pygments_lexer": "ipython3",
   "version": "3.8.5"
  }
 },
 "nbformat": 4,
 "nbformat_minor": 4
}
