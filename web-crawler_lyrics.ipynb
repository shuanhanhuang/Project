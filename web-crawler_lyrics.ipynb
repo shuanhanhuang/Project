{
  "nbformat": 4,
  "nbformat_minor": 0,
  "metadata": {
    "colab": {
      "provenance": []
    },
    "kernelspec": {
      "name": "python3",
      "display_name": "Python 3"
    },
    "language_info": {
      "name": "python"
    }
  },
  "cells": [
    {
      "cell_type": "code",
      "metadata": {
        "colab": {
          "base_uri": "https://localhost:8080/"
        },
        "id": "zND8Gts4VdRO",
        "outputId": "80458624-fa77-4ac2-8fd7-aae2557624bd"
      },
      "source": [
        "import requests\n",
        "from bs4 import BeautifulSoup\n",
        "\n",
        "SEARCH=\"卓義峰+再見煙火\"\n",
        "headers={'user-agent': 'Mozilla/5.0 (Windows NT 10.0; Win64; x64) AppleWebKit/537.36 (KHTML, like Gecko) Chrome/89.0.4389.90 Safari/537.36'}\n",
        "resp=requests.get(\"https://www.youtube.com/results?search_query=\"+SEARCH,headers=headers)\n",
        "soup=BeautifulSoup(resp.text,\"html.parser\")\n",
        "contents=soup.select('div contents')\n",
        "print(contents)\n",
        "#for i in contents:\n",
        "#  views=i.find('span','style-scope ytd-video-meta-block')\n",
        "#  print(views.text)"
      ],
      "execution_count": null,
      "outputs": [
        {
          "output_type": "stream",
          "text": [
            "[]\n"
          ],
          "name": "stdout"
        }
      ]
    },
    {
      "cell_type": "code",
      "metadata": {
        "id": "0sDqWsPdeBv_"
      },
      "source": [
        "import re\n",
        "import requests\n",
        "from bs4 import BeautifulSoup\n",
        "requests.packages.urllib3.disable_warnings()\n",
        "string = \"周杰倫\";\n",
        "headers={'user-agent': 'Mozilla/5.0 (Windows NT 10.0; Win64; x64) AppleWebKit/537.36 (KHTML, like Gecko) Chrome/89.0.4389.90 Safari/537.36'}\n",
        "url = \"https://www.youtube.com/results?search_query=\" + string\n",
        "res = requests.get(url, verify=False,headers=headers)\n",
        "soup = BeautifulSoup(res.text,'html.parser')\n",
        "last = None\n",
        "\n",
        "for entry in soup.select('a'):\n",
        "  m = re.search(\"v=(.*)\",entry['href'])\n",
        "  if m:\n",
        "    target = m.group(1)\n",
        "    if target == last:\n",
        "        continue\n",
        "    if re.search(\"list\",target):\n",
        "        continue\n",
        "    last = target\n",
        "    print(target)"
      ],
      "execution_count": null,
      "outputs": []
    }
  ]
}